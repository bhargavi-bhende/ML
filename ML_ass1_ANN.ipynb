{
  "cells": [
    {
      "cell_type": "markdown",
      "metadata": {
        "id": "ilUR6_w2pZ7V"
      },
      "source": [
        "**Iris Flower Classification using Artificial Neural Network (ANN)**\n",
        "\n",
        "**Name:**\n",
        "**Roll Number:**\n",
        "\n",
        "**Project Details:**\n",
        "- **Name:** Bhargavi Satish Bhende\n",
        "- **PRN:** RBT21CB053\n",
        "- **Aim:** The aim of this project is to develop a model using Artificial Neural Networks (ANN) that can accurately predict the flower species based on various features of a flower.\n",
        "\n",
        "**Theory:**\n",
        "A neural network is a machine learning (ML) model designed to mimic the function and structure of the human brain. Neural networks are intricate networks of interconnected nodes, or neurons, that collaborate to tackle complicated problems. Also referred to as artificial neural networks (ANNs) or deep neural networks, neural networks represent a type of deep learning technology that's classified under the broader field of artificial intelligence (AI).\n",
        "\n",
        "Neural networks are widely used in a variety of applications, including image recognition, predictive modeling, and natural language processing (NLP). Examples of significant commercial applications since 2000 include handwriting recognition for check processing, speech-to-text transcription, oil exploration data analysis, weather prediction, and facial recognition."
      ]
    },
    {
      "cell_type": "markdown",
      "metadata": {
        "id": "2fEcSTnmqOJi"
      },
      "source": [
        "**Data Preprocessing**"
      ]
    },
    {
      "cell_type": "code",
      "execution_count": null,
      "metadata": {
        "colab": {
          "base_uri": "https://localhost:8080/",
          "height": 373
        },
        "id": "smkqjOiBy0yJ",
        "outputId": "14ccacd5-69d3-4f28-c8a0-f96fef29fcb1"
      },
      "outputs": [
        {
          "ename": "FileNotFoundError",
          "evalue": "ignored",
          "output_type": "error",
          "traceback": [
            "\u001b[0;31m---------------------------------------------------------------------------\u001b[0m",
            "\u001b[0;31mFileNotFoundError\u001b[0m                         Traceback (most recent call last)",
            "\u001b[0;32m<ipython-input-5-c1569b01279d>\u001b[0m in \u001b[0;36m<cell line: 3>\u001b[0;34m()\u001b[0m\n\u001b[1;32m      1\u001b[0m \u001b[0;32mimport\u001b[0m \u001b[0mpandas\u001b[0m \u001b[0;32mas\u001b[0m \u001b[0mpd\u001b[0m\u001b[0;34m\u001b[0m\u001b[0;34m\u001b[0m\u001b[0m\n\u001b[1;32m      2\u001b[0m \u001b[0;32mimport\u001b[0m \u001b[0mio\u001b[0m\u001b[0;34m\u001b[0m\u001b[0;34m\u001b[0m\u001b[0m\n\u001b[0;32m----> 3\u001b[0;31m \u001b[0mdata\u001b[0m \u001b[0;34m=\u001b[0m \u001b[0mpd\u001b[0m\u001b[0;34m.\u001b[0m\u001b[0mread_csv\u001b[0m\u001b[0;34m(\u001b[0m\u001b[0;34m'IRIS.csv'\u001b[0m\u001b[0;34m)\u001b[0m\u001b[0;34m\u001b[0m\u001b[0;34m\u001b[0m\u001b[0m\n\u001b[0m\u001b[1;32m      4\u001b[0m \u001b[0mdata\u001b[0m\u001b[0;34m.\u001b[0m\u001b[0minfo\u001b[0m\u001b[0;34m\u001b[0m\u001b[0;34m\u001b[0m\u001b[0m\n",
            "\u001b[0;32m/usr/local/lib/python3.10/dist-packages/pandas/util/_decorators.py\u001b[0m in \u001b[0;36mwrapper\u001b[0;34m(*args, **kwargs)\u001b[0m\n\u001b[1;32m    209\u001b[0m                 \u001b[0;32melse\u001b[0m\u001b[0;34m:\u001b[0m\u001b[0;34m\u001b[0m\u001b[0;34m\u001b[0m\u001b[0m\n\u001b[1;32m    210\u001b[0m                     \u001b[0mkwargs\u001b[0m\u001b[0;34m[\u001b[0m\u001b[0mnew_arg_name\u001b[0m\u001b[0;34m]\u001b[0m \u001b[0;34m=\u001b[0m \u001b[0mnew_arg_value\u001b[0m\u001b[0;34m\u001b[0m\u001b[0;34m\u001b[0m\u001b[0m\n\u001b[0;32m--> 211\u001b[0;31m             \u001b[0;32mreturn\u001b[0m \u001b[0mfunc\u001b[0m\u001b[0;34m(\u001b[0m\u001b[0;34m*\u001b[0m\u001b[0margs\u001b[0m\u001b[0;34m,\u001b[0m \u001b[0;34m**\u001b[0m\u001b[0mkwargs\u001b[0m\u001b[0;34m)\u001b[0m\u001b[0;34m\u001b[0m\u001b[0;34m\u001b[0m\u001b[0m\n\u001b[0m\u001b[1;32m    212\u001b[0m \u001b[0;34m\u001b[0m\u001b[0m\n\u001b[1;32m    213\u001b[0m         \u001b[0;32mreturn\u001b[0m \u001b[0mcast\u001b[0m\u001b[0;34m(\u001b[0m\u001b[0mF\u001b[0m\u001b[0;34m,\u001b[0m \u001b[0mwrapper\u001b[0m\u001b[0;34m)\u001b[0m\u001b[0;34m\u001b[0m\u001b[0;34m\u001b[0m\u001b[0m\n",
            "\u001b[0;32m/usr/local/lib/python3.10/dist-packages/pandas/util/_decorators.py\u001b[0m in \u001b[0;36mwrapper\u001b[0;34m(*args, **kwargs)\u001b[0m\n\u001b[1;32m    329\u001b[0m                     \u001b[0mstacklevel\u001b[0m\u001b[0;34m=\u001b[0m\u001b[0mfind_stack_level\u001b[0m\u001b[0;34m(\u001b[0m\u001b[0;34m)\u001b[0m\u001b[0;34m,\u001b[0m\u001b[0;34m\u001b[0m\u001b[0;34m\u001b[0m\u001b[0m\n\u001b[1;32m    330\u001b[0m                 )\n\u001b[0;32m--> 331\u001b[0;31m             \u001b[0;32mreturn\u001b[0m \u001b[0mfunc\u001b[0m\u001b[0;34m(\u001b[0m\u001b[0;34m*\u001b[0m\u001b[0margs\u001b[0m\u001b[0;34m,\u001b[0m \u001b[0;34m**\u001b[0m\u001b[0mkwargs\u001b[0m\u001b[0;34m)\u001b[0m\u001b[0;34m\u001b[0m\u001b[0;34m\u001b[0m\u001b[0m\n\u001b[0m\u001b[1;32m    332\u001b[0m \u001b[0;34m\u001b[0m\u001b[0m\n\u001b[1;32m    333\u001b[0m         \u001b[0;31m# error: \"Callable[[VarArg(Any), KwArg(Any)], Any]\" has no\u001b[0m\u001b[0;34m\u001b[0m\u001b[0;34m\u001b[0m\u001b[0m\n",
            "\u001b[0;32m/usr/local/lib/python3.10/dist-packages/pandas/io/parsers/readers.py\u001b[0m in \u001b[0;36mread_csv\u001b[0;34m(filepath_or_buffer, sep, delimiter, header, names, index_col, usecols, squeeze, prefix, mangle_dupe_cols, dtype, engine, converters, true_values, false_values, skipinitialspace, skiprows, skipfooter, nrows, na_values, keep_default_na, na_filter, verbose, skip_blank_lines, parse_dates, infer_datetime_format, keep_date_col, date_parser, dayfirst, cache_dates, iterator, chunksize, compression, thousands, decimal, lineterminator, quotechar, quoting, doublequote, escapechar, comment, encoding, encoding_errors, dialect, error_bad_lines, warn_bad_lines, on_bad_lines, delim_whitespace, low_memory, memory_map, float_precision, storage_options)\u001b[0m\n\u001b[1;32m    948\u001b[0m     \u001b[0mkwds\u001b[0m\u001b[0;34m.\u001b[0m\u001b[0mupdate\u001b[0m\u001b[0;34m(\u001b[0m\u001b[0mkwds_defaults\u001b[0m\u001b[0;34m)\u001b[0m\u001b[0;34m\u001b[0m\u001b[0;34m\u001b[0m\u001b[0m\n\u001b[1;32m    949\u001b[0m \u001b[0;34m\u001b[0m\u001b[0m\n\u001b[0;32m--> 950\u001b[0;31m     \u001b[0;32mreturn\u001b[0m \u001b[0m_read\u001b[0m\u001b[0;34m(\u001b[0m\u001b[0mfilepath_or_buffer\u001b[0m\u001b[0;34m,\u001b[0m \u001b[0mkwds\u001b[0m\u001b[0;34m)\u001b[0m\u001b[0;34m\u001b[0m\u001b[0;34m\u001b[0m\u001b[0m\n\u001b[0m\u001b[1;32m    951\u001b[0m \u001b[0;34m\u001b[0m\u001b[0m\n\u001b[1;32m    952\u001b[0m \u001b[0;34m\u001b[0m\u001b[0m\n",
            "\u001b[0;32m/usr/local/lib/python3.10/dist-packages/pandas/io/parsers/readers.py\u001b[0m in \u001b[0;36m_read\u001b[0;34m(filepath_or_buffer, kwds)\u001b[0m\n\u001b[1;32m    603\u001b[0m \u001b[0;34m\u001b[0m\u001b[0m\n\u001b[1;32m    604\u001b[0m     \u001b[0;31m# Create the parser.\u001b[0m\u001b[0;34m\u001b[0m\u001b[0;34m\u001b[0m\u001b[0m\n\u001b[0;32m--> 605\u001b[0;31m     \u001b[0mparser\u001b[0m \u001b[0;34m=\u001b[0m \u001b[0mTextFileReader\u001b[0m\u001b[0;34m(\u001b[0m\u001b[0mfilepath_or_buffer\u001b[0m\u001b[0;34m,\u001b[0m \u001b[0;34m**\u001b[0m\u001b[0mkwds\u001b[0m\u001b[0;34m)\u001b[0m\u001b[0;34m\u001b[0m\u001b[0;34m\u001b[0m\u001b[0m\n\u001b[0m\u001b[1;32m    606\u001b[0m \u001b[0;34m\u001b[0m\u001b[0m\n\u001b[1;32m    607\u001b[0m     \u001b[0;32mif\u001b[0m \u001b[0mchunksize\u001b[0m \u001b[0;32mor\u001b[0m \u001b[0miterator\u001b[0m\u001b[0;34m:\u001b[0m\u001b[0;34m\u001b[0m\u001b[0;34m\u001b[0m\u001b[0m\n",
            "\u001b[0;32m/usr/local/lib/python3.10/dist-packages/pandas/io/parsers/readers.py\u001b[0m in \u001b[0;36m__init__\u001b[0;34m(self, f, engine, **kwds)\u001b[0m\n\u001b[1;32m   1440\u001b[0m \u001b[0;34m\u001b[0m\u001b[0m\n\u001b[1;32m   1441\u001b[0m         \u001b[0mself\u001b[0m\u001b[0;34m.\u001b[0m\u001b[0mhandles\u001b[0m\u001b[0;34m:\u001b[0m \u001b[0mIOHandles\u001b[0m \u001b[0;34m|\u001b[0m \u001b[0;32mNone\u001b[0m \u001b[0;34m=\u001b[0m \u001b[0;32mNone\u001b[0m\u001b[0;34m\u001b[0m\u001b[0;34m\u001b[0m\u001b[0m\n\u001b[0;32m-> 1442\u001b[0;31m         \u001b[0mself\u001b[0m\u001b[0;34m.\u001b[0m\u001b[0m_engine\u001b[0m \u001b[0;34m=\u001b[0m \u001b[0mself\u001b[0m\u001b[0;34m.\u001b[0m\u001b[0m_make_engine\u001b[0m\u001b[0;34m(\u001b[0m\u001b[0mf\u001b[0m\u001b[0;34m,\u001b[0m \u001b[0mself\u001b[0m\u001b[0;34m.\u001b[0m\u001b[0mengine\u001b[0m\u001b[0;34m)\u001b[0m\u001b[0;34m\u001b[0m\u001b[0;34m\u001b[0m\u001b[0m\n\u001b[0m\u001b[1;32m   1443\u001b[0m \u001b[0;34m\u001b[0m\u001b[0m\n\u001b[1;32m   1444\u001b[0m     \u001b[0;32mdef\u001b[0m \u001b[0mclose\u001b[0m\u001b[0;34m(\u001b[0m\u001b[0mself\u001b[0m\u001b[0;34m)\u001b[0m \u001b[0;34m->\u001b[0m \u001b[0;32mNone\u001b[0m\u001b[0;34m:\u001b[0m\u001b[0;34m\u001b[0m\u001b[0;34m\u001b[0m\u001b[0m\n",
            "\u001b[0;32m/usr/local/lib/python3.10/dist-packages/pandas/io/parsers/readers.py\u001b[0m in \u001b[0;36m_make_engine\u001b[0;34m(self, f, engine)\u001b[0m\n\u001b[1;32m   1733\u001b[0m                 \u001b[0;32mif\u001b[0m \u001b[0;34m\"b\"\u001b[0m \u001b[0;32mnot\u001b[0m \u001b[0;32min\u001b[0m \u001b[0mmode\u001b[0m\u001b[0;34m:\u001b[0m\u001b[0;34m\u001b[0m\u001b[0;34m\u001b[0m\u001b[0m\n\u001b[1;32m   1734\u001b[0m                     \u001b[0mmode\u001b[0m \u001b[0;34m+=\u001b[0m \u001b[0;34m\"b\"\u001b[0m\u001b[0;34m\u001b[0m\u001b[0;34m\u001b[0m\u001b[0m\n\u001b[0;32m-> 1735\u001b[0;31m             self.handles = get_handle(\n\u001b[0m\u001b[1;32m   1736\u001b[0m                 \u001b[0mf\u001b[0m\u001b[0;34m,\u001b[0m\u001b[0;34m\u001b[0m\u001b[0;34m\u001b[0m\u001b[0m\n\u001b[1;32m   1737\u001b[0m                 \u001b[0mmode\u001b[0m\u001b[0;34m,\u001b[0m\u001b[0;34m\u001b[0m\u001b[0;34m\u001b[0m\u001b[0m\n",
            "\u001b[0;32m/usr/local/lib/python3.10/dist-packages/pandas/io/common.py\u001b[0m in \u001b[0;36mget_handle\u001b[0;34m(path_or_buf, mode, encoding, compression, memory_map, is_text, errors, storage_options)\u001b[0m\n\u001b[1;32m    854\u001b[0m         \u001b[0;32mif\u001b[0m \u001b[0mioargs\u001b[0m\u001b[0;34m.\u001b[0m\u001b[0mencoding\u001b[0m \u001b[0;32mand\u001b[0m \u001b[0;34m\"b\"\u001b[0m \u001b[0;32mnot\u001b[0m \u001b[0;32min\u001b[0m \u001b[0mioargs\u001b[0m\u001b[0;34m.\u001b[0m\u001b[0mmode\u001b[0m\u001b[0;34m:\u001b[0m\u001b[0;34m\u001b[0m\u001b[0;34m\u001b[0m\u001b[0m\n\u001b[1;32m    855\u001b[0m             \u001b[0;31m# Encoding\u001b[0m\u001b[0;34m\u001b[0m\u001b[0;34m\u001b[0m\u001b[0m\n\u001b[0;32m--> 856\u001b[0;31m             handle = open(\n\u001b[0m\u001b[1;32m    857\u001b[0m                 \u001b[0mhandle\u001b[0m\u001b[0;34m,\u001b[0m\u001b[0;34m\u001b[0m\u001b[0;34m\u001b[0m\u001b[0m\n\u001b[1;32m    858\u001b[0m                 \u001b[0mioargs\u001b[0m\u001b[0;34m.\u001b[0m\u001b[0mmode\u001b[0m\u001b[0;34m,\u001b[0m\u001b[0;34m\u001b[0m\u001b[0;34m\u001b[0m\u001b[0m\n",
            "\u001b[0;31mFileNotFoundError\u001b[0m: [Errno 2] No such file or directory: 'IRIS.csv'"
          ]
        }
      ],
      "source": [
        "import pandas as pd\n",
        "import io\n",
        "data = pd.read_csv('IRIS.csv')\n",
        "data.info"
      ]
    },
    {
      "cell_type": "code",
      "execution_count": null,
      "metadata": {
        "colab": {
          "base_uri": "https://localhost:8080/",
          "height": 175
        },
        "id": "LIeXJAqR08Wy",
        "outputId": "1c35b88b-ec2b-42a9-8d98-574ad2eb7e53"
      },
      "outputs": [
        {
          "ename": "NameError",
          "evalue": "ignored",
          "output_type": "error",
          "traceback": [
            "\u001b[0;31m---------------------------------------------------------------------------\u001b[0m",
            "\u001b[0;31mNameError\u001b[0m                                 Traceback (most recent call last)",
            "\u001b[0;32m<ipython-input-3-6ca7d8cb4c37>\u001b[0m in \u001b[0;36m<cell line: 1>\u001b[0;34m()\u001b[0m\n\u001b[0;32m----> 1\u001b[0;31m \u001b[0mdata\u001b[0m\u001b[0;34m[\u001b[0m\u001b[0;34m'Species'\u001b[0m\u001b[0;34m]\u001b[0m\u001b[0;34m.\u001b[0m\u001b[0mvalue_counts\u001b[0m\u001b[0;34m(\u001b[0m\u001b[0;34m)\u001b[0m\u001b[0;34m\u001b[0m\u001b[0;34m\u001b[0m\u001b[0m\n\u001b[0m",
            "\u001b[0;31mNameError\u001b[0m: name 'data' is not defined"
          ]
        }
      ],
      "source": [
        "data['Species'].value_counts()"
      ]
    },
    {
      "cell_type": "code",
      "execution_count": null,
      "metadata": {
        "id": "tfWAPcTt3L6d"
      },
      "outputs": [],
      "source": [
        "import pandas as pd\n",
        "from sklearn.preprocessing import LabelEncoder\n",
        "\n",
        "# Load the dataset\n",
        "data = pd.read_csv('IRIS.csv')\n",
        "\n",
        "# Initialize the LabelEncoder\n",
        "label_encoder = LabelEncoder()\n",
        "\n",
        "# Apply label encoding to the categorical column\n",
        "data['species_encoded'] = label_encoder.fit_transform(data['Species'])\n",
        "\n",
        "# Display the encoded dataset\n",
        "print(data.head())\n"
      ]
    },
    {
      "cell_type": "code",
      "execution_count": null,
      "metadata": {
        "id": "2gu4ylw45goy"
      },
      "outputs": [],
      "source": [
        "import pandas as pd\n",
        "from sklearn.preprocessing import MinMaxScaler\n",
        "\n",
        "# Load the dataset\n",
        "data = pd.read_csv('IRIS.csv')\n",
        "\n",
        "# Select the numerical columns to normalize\n",
        "numerical_columns = ['SepalLengthCm', 'SepalWidthCm', 'PetalLengthCm', 'PetalWidthCm']\n",
        "\n",
        "# Initialize the MinMaxScaler\n",
        "scaler = MinMaxScaler()\n",
        "\n",
        "# Fit and transform the numerical columns\n",
        "data[numerical_columns] = scaler.fit_transform(data[numerical_columns])\n",
        "\n",
        "# Display the normalized dataset\n",
        "print(data.head())\n"
      ]
    },
    {
      "cell_type": "code",
      "execution_count": null,
      "metadata": {
        "id": "_fZ4RqY35iJG"
      },
      "outputs": [],
      "source": [
        "import pandas as pd\n",
        "from sklearn.preprocessing import StandardScaler\n",
        "\n",
        "# Load the dataset\n",
        "data = pd.read_csv('IRIS.csv')\n",
        "\n",
        "# Select the numerical columns to standardize\n",
        "numerical_columns = ['SepalLengthCm', 'SepalWidthCm', 'PetalLengthCm', 'PetalWidthCm']\n",
        "\n",
        "# Initialize the StandardScaler\n",
        "scaler = StandardScaler()\n",
        "\n",
        "# Fit and transform the numerical columns\n",
        "data[numerical_columns] = scaler.fit_transform(data[numerical_columns])\n",
        "\n",
        "# Display the standardized dataset\n",
        "print(data.head())\n"
      ]
    },
    {
      "cell_type": "code",
      "execution_count": null,
      "metadata": {
        "id": "kLCKcCvt5xIO"
      },
      "outputs": [],
      "source": [
        "import pandas as pd\n",
        "\n",
        "# Load the dataset\n",
        "data = pd.read_csv('IRIS.csv')\n",
        "\n",
        "# Check for missing values\n",
        "missing_values = data.isnull().sum()\n",
        "\n",
        "# Impute missing values with the mean of each column\n",
        "data = data.fillna(data.mean())\n",
        "\n",
        "# Display the dataset after imputation\n",
        "print(data.head())\n"
      ]
    },
    {
      "cell_type": "code",
      "execution_count": null,
      "metadata": {
        "id": "GRG2_ATb5y8a"
      },
      "outputs": [],
      "source": [
        "import pandas as pd\n",
        "\n",
        "# Load the dataset\n",
        "data = pd.read_csv('IRIS.csv')\n",
        "\n",
        "# Specify the column to discretize and the bin edges\n",
        "column_to_discretize = 'SepalLengthCm'\n",
        "bin_edges = [0, 5, 6, 7, 8]\n",
        "\n",
        "# Create labels for the bins (optional)\n",
        "bin_labels = ['Short', 'Medium', 'Long', 'Very Long']\n",
        "\n",
        "# Perform discretization\n",
        "data['sepal_length_category'] = pd.cut(data[column_to_discretize], bins=bin_edges, labels=bin_labels)\n",
        "\n",
        "# Display the dataset with the discretized column\n",
        "print(data[['SepalLengthCm', 'sepal_length_category']].head())\n"
      ]
    },
    {
      "cell_type": "markdown",
      "metadata": {
        "id": "NYoDskx6qco7"
      },
      "source": [
        "**ANN MODEL**"
      ]
    },
    {
      "cell_type": "code",
      "execution_count": null,
      "metadata": {
        "id": "gLfd_J120Kt1"
      },
      "outputs": [],
      "source": [
        "pip install tensorflow\n"
      ]
    },
    {
      "cell_type": "code",
      "execution_count": null,
      "metadata": {
        "colab": {
          "background_save": true
        },
        "id": "1REMT49h0TpI",
        "outputId": "72e1b45f-fc2d-4800-b0de-29f5e3c66ca3"
      },
      "outputs": [
        {
          "name": "stdout",
          "output_type": "stream",
          "text": [
            "Epoch 1/100\n",
            "4/4 [==============================] - 1s 87ms/step - loss: 1.1536 - accuracy: 0.4000 - val_loss: 1.1101 - val_accuracy: 0.5000\n",
            "Epoch 2/100\n",
            "4/4 [==============================] - 0s 14ms/step - loss: 1.1232 - accuracy: 0.4083 - val_loss: 1.0783 - val_accuracy: 0.5000\n",
            "Epoch 3/100\n",
            "4/4 [==============================] - 0s 14ms/step - loss: 1.0938 - accuracy: 0.4250 - val_loss: 1.0474 - val_accuracy: 0.5000\n",
            "Epoch 4/100\n",
            "4/4 [==============================] - 0s 16ms/step - loss: 1.0657 - accuracy: 0.4417 - val_loss: 1.0177 - val_accuracy: 0.5000\n",
            "Epoch 5/100\n",
            "4/4 [==============================] - 0s 20ms/step - loss: 1.0371 - accuracy: 0.4500 - val_loss: 0.9893 - val_accuracy: 0.5000\n",
            "Epoch 6/100\n",
            "4/4 [==============================] - 0s 21ms/step - loss: 1.0127 - accuracy: 0.4667 - val_loss: 0.9610 - val_accuracy: 0.5000\n",
            "Epoch 7/100\n",
            "4/4 [==============================] - 0s 21ms/step - loss: 0.9857 - accuracy: 0.4917 - val_loss: 0.9341 - val_accuracy: 0.5667\n",
            "Epoch 8/100\n",
            "4/4 [==============================] - 0s 15ms/step - loss: 0.9613 - accuracy: 0.5083 - val_loss: 0.9082 - val_accuracy: 0.6000\n",
            "Epoch 9/100\n",
            "4/4 [==============================] - 0s 13ms/step - loss: 0.9365 - accuracy: 0.6083 - val_loss: 0.8834 - val_accuracy: 0.6667\n",
            "Epoch 10/100\n",
            "4/4 [==============================] - 0s 16ms/step - loss: 0.9134 - accuracy: 0.6917 - val_loss: 0.8595 - val_accuracy: 0.7333\n",
            "Epoch 11/100\n",
            "4/4 [==============================] - 0s 15ms/step - loss: 0.8899 - accuracy: 0.7167 - val_loss: 0.8364 - val_accuracy: 0.7333\n",
            "Epoch 12/100\n",
            "4/4 [==============================] - 0s 21ms/step - loss: 0.8684 - accuracy: 0.7333 - val_loss: 0.8134 - val_accuracy: 0.8000\n",
            "Epoch 13/100\n",
            "4/4 [==============================] - 0s 19ms/step - loss: 0.8469 - accuracy: 0.7583 - val_loss: 0.7910 - val_accuracy: 0.9000\n",
            "Epoch 14/100\n",
            "4/4 [==============================] - 0s 13ms/step - loss: 0.8253 - accuracy: 0.7750 - val_loss: 0.7695 - val_accuracy: 0.9000\n",
            "Epoch 15/100\n",
            "4/4 [==============================] - 0s 14ms/step - loss: 0.8053 - accuracy: 0.7833 - val_loss: 0.7482 - val_accuracy: 0.9000\n",
            "Epoch 16/100\n",
            "4/4 [==============================] - 0s 14ms/step - loss: 0.7866 - accuracy: 0.7750 - val_loss: 0.7271 - val_accuracy: 0.9000\n",
            "Epoch 17/100\n",
            "4/4 [==============================] - 0s 14ms/step - loss: 0.7677 - accuracy: 0.7750 - val_loss: 0.7065 - val_accuracy: 0.9000\n",
            "Epoch 18/100\n",
            "4/4 [==============================] - 0s 14ms/step - loss: 0.7488 - accuracy: 0.7917 - val_loss: 0.6872 - val_accuracy: 0.9000\n",
            "Epoch 19/100\n",
            "4/4 [==============================] - 0s 14ms/step - loss: 0.7317 - accuracy: 0.8000 - val_loss: 0.6685 - val_accuracy: 0.9000\n",
            "Epoch 20/100\n",
            "4/4 [==============================] - 0s 15ms/step - loss: 0.7145 - accuracy: 0.8000 - val_loss: 0.6507 - val_accuracy: 0.9000\n",
            "Epoch 21/100\n",
            "4/4 [==============================] - 0s 23ms/step - loss: 0.6988 - accuracy: 0.8000 - val_loss: 0.6334 - val_accuracy: 0.9000\n",
            "Epoch 22/100\n",
            "4/4 [==============================] - 0s 14ms/step - loss: 0.6830 - accuracy: 0.8000 - val_loss: 0.6171 - val_accuracy: 0.9000\n",
            "Epoch 23/100\n",
            "4/4 [==============================] - 0s 17ms/step - loss: 0.6682 - accuracy: 0.8000 - val_loss: 0.6019 - val_accuracy: 0.9000\n",
            "Epoch 24/100\n",
            "4/4 [==============================] - 0s 21ms/step - loss: 0.6547 - accuracy: 0.8000 - val_loss: 0.5868 - val_accuracy: 0.9000\n",
            "Epoch 25/100\n",
            "4/4 [==============================] - 0s 13ms/step - loss: 0.6410 - accuracy: 0.8000 - val_loss: 0.5727 - val_accuracy: 0.9000\n",
            "Epoch 26/100\n",
            "4/4 [==============================] - 0s 13ms/step - loss: 0.6277 - accuracy: 0.8000 - val_loss: 0.5591 - val_accuracy: 0.9000\n",
            "Epoch 27/100\n",
            "4/4 [==============================] - 0s 20ms/step - loss: 0.6165 - accuracy: 0.8000 - val_loss: 0.5458 - val_accuracy: 0.9000\n",
            "Epoch 28/100\n",
            "4/4 [==============================] - 0s 17ms/step - loss: 0.6044 - accuracy: 0.8083 - val_loss: 0.5335 - val_accuracy: 0.9000\n",
            "Epoch 29/100\n",
            "4/4 [==============================] - 0s 15ms/step - loss: 0.5931 - accuracy: 0.8083 - val_loss: 0.5220 - val_accuracy: 0.9000\n",
            "Epoch 30/100\n",
            "4/4 [==============================] - 0s 21ms/step - loss: 0.5830 - accuracy: 0.8083 - val_loss: 0.5108 - val_accuracy: 0.9000\n",
            "Epoch 31/100\n",
            "4/4 [==============================] - 0s 20ms/step - loss: 0.5729 - accuracy: 0.8083 - val_loss: 0.5003 - val_accuracy: 0.9000\n",
            "Epoch 32/100\n",
            "4/4 [==============================] - 0s 14ms/step - loss: 0.5639 - accuracy: 0.8083 - val_loss: 0.4900 - val_accuracy: 0.9000\n",
            "Epoch 33/100\n",
            "4/4 [==============================] - 0s 14ms/step - loss: 0.5544 - accuracy: 0.8167 - val_loss: 0.4806 - val_accuracy: 0.9000\n",
            "Epoch 34/100\n",
            "4/4 [==============================] - 0s 15ms/step - loss: 0.5458 - accuracy: 0.8167 - val_loss: 0.4715 - val_accuracy: 0.9000\n",
            "Epoch 35/100\n",
            "4/4 [==============================] - 0s 16ms/step - loss: 0.5377 - accuracy: 0.8167 - val_loss: 0.4628 - val_accuracy: 0.9000\n",
            "Epoch 36/100\n",
            "4/4 [==============================] - 0s 15ms/step - loss: 0.5296 - accuracy: 0.8250 - val_loss: 0.4543 - val_accuracy: 0.9000\n",
            "Epoch 37/100\n",
            "4/4 [==============================] - 0s 21ms/step - loss: 0.5222 - accuracy: 0.8250 - val_loss: 0.4462 - val_accuracy: 0.9000\n",
            "Epoch 38/100\n",
            "4/4 [==============================] - 0s 23ms/step - loss: 0.5150 - accuracy: 0.8250 - val_loss: 0.4383 - val_accuracy: 0.9000\n",
            "Epoch 39/100\n",
            "4/4 [==============================] - 0s 18ms/step - loss: 0.5079 - accuracy: 0.8250 - val_loss: 0.4310 - val_accuracy: 0.9000\n",
            "Epoch 40/100\n",
            "4/4 [==============================] - 0s 22ms/step - loss: 0.5014 - accuracy: 0.8250 - val_loss: 0.4238 - val_accuracy: 0.9000\n",
            "Epoch 41/100\n",
            "4/4 [==============================] - 0s 20ms/step - loss: 0.4950 - accuracy: 0.8250 - val_loss: 0.4169 - val_accuracy: 0.9000\n",
            "Epoch 42/100\n",
            "4/4 [==============================] - 0s 19ms/step - loss: 0.4888 - accuracy: 0.8250 - val_loss: 0.4104 - val_accuracy: 0.9000\n",
            "Epoch 43/100\n",
            "4/4 [==============================] - 0s 19ms/step - loss: 0.4829 - accuracy: 0.8250 - val_loss: 0.4041 - val_accuracy: 0.9000\n",
            "Epoch 44/100\n",
            "4/4 [==============================] - 0s 23ms/step - loss: 0.4775 - accuracy: 0.8250 - val_loss: 0.3980 - val_accuracy: 0.9333\n",
            "Epoch 45/100\n",
            "4/4 [==============================] - 0s 17ms/step - loss: 0.4716 - accuracy: 0.8250 - val_loss: 0.3923 - val_accuracy: 0.9333\n",
            "Epoch 46/100\n",
            "4/4 [==============================] - 0s 14ms/step - loss: 0.4664 - accuracy: 0.8250 - val_loss: 0.3866 - val_accuracy: 0.9333\n",
            "Epoch 47/100\n",
            "4/4 [==============================] - 0s 14ms/step - loss: 0.4611 - accuracy: 0.8250 - val_loss: 0.3812 - val_accuracy: 0.9333\n",
            "Epoch 48/100\n",
            "4/4 [==============================] - 0s 21ms/step - loss: 0.4562 - accuracy: 0.8333 - val_loss: 0.3759 - val_accuracy: 0.9333\n",
            "Epoch 49/100\n",
            "4/4 [==============================] - 0s 14ms/step - loss: 0.4514 - accuracy: 0.8333 - val_loss: 0.3709 - val_accuracy: 0.9333\n",
            "Epoch 50/100\n",
            "4/4 [==============================] - 0s 15ms/step - loss: 0.4466 - accuracy: 0.8333 - val_loss: 0.3660 - val_accuracy: 0.9333\n",
            "Epoch 51/100\n",
            "4/4 [==============================] - 0s 13ms/step - loss: 0.4420 - accuracy: 0.8417 - val_loss: 0.3614 - val_accuracy: 0.9333\n",
            "Epoch 52/100\n",
            "4/4 [==============================] - 0s 15ms/step - loss: 0.4374 - accuracy: 0.8333 - val_loss: 0.3568 - val_accuracy: 0.9333\n",
            "Epoch 53/100\n",
            "4/4 [==============================] - 0s 13ms/step - loss: 0.4332 - accuracy: 0.8417 - val_loss: 0.3524 - val_accuracy: 0.9333\n",
            "Epoch 54/100\n",
            "4/4 [==============================] - 0s 20ms/step - loss: 0.4290 - accuracy: 0.8417 - val_loss: 0.3482 - val_accuracy: 0.9333\n",
            "Epoch 55/100\n",
            "4/4 [==============================] - 0s 13ms/step - loss: 0.4248 - accuracy: 0.8417 - val_loss: 0.3441 - val_accuracy: 0.9333\n",
            "Epoch 56/100\n",
            "4/4 [==============================] - 0s 14ms/step - loss: 0.4210 - accuracy: 0.8500 - val_loss: 0.3401 - val_accuracy: 0.9333\n",
            "Epoch 57/100\n",
            "4/4 [==============================] - 0s 16ms/step - loss: 0.4170 - accuracy: 0.8417 - val_loss: 0.3361 - val_accuracy: 0.9333\n",
            "Epoch 58/100\n",
            "4/4 [==============================] - 0s 14ms/step - loss: 0.4132 - accuracy: 0.8500 - val_loss: 0.3324 - val_accuracy: 0.9333\n",
            "Epoch 59/100\n",
            "4/4 [==============================] - 0s 16ms/step - loss: 0.4096 - accuracy: 0.8500 - val_loss: 0.3287 - val_accuracy: 0.9333\n",
            "Epoch 60/100\n",
            "4/4 [==============================] - 0s 15ms/step - loss: 0.4061 - accuracy: 0.8500 - val_loss: 0.3253 - val_accuracy: 0.9333\n",
            "Epoch 61/100\n",
            "4/4 [==============================] - 0s 16ms/step - loss: 0.4027 - accuracy: 0.8583 - val_loss: 0.3219 - val_accuracy: 0.9333\n",
            "Epoch 62/100\n",
            "4/4 [==============================] - 0s 15ms/step - loss: 0.3990 - accuracy: 0.8583 - val_loss: 0.3184 - val_accuracy: 0.9333\n",
            "Epoch 63/100\n",
            "4/4 [==============================] - 0s 15ms/step - loss: 0.3956 - accuracy: 0.8667 - val_loss: 0.3151 - val_accuracy: 0.9333\n",
            "Epoch 64/100\n",
            "4/4 [==============================] - 0s 15ms/step - loss: 0.3922 - accuracy: 0.8667 - val_loss: 0.3117 - val_accuracy: 0.9333\n",
            "Epoch 65/100\n",
            "4/4 [==============================] - 0s 16ms/step - loss: 0.3889 - accuracy: 0.8750 - val_loss: 0.3086 - val_accuracy: 0.9333\n",
            "Epoch 66/100\n",
            "4/4 [==============================] - 0s 16ms/step - loss: 0.3857 - accuracy: 0.8750 - val_loss: 0.3055 - val_accuracy: 0.9333\n",
            "Epoch 67/100\n",
            "4/4 [==============================] - 0s 15ms/step - loss: 0.3826 - accuracy: 0.8750 - val_loss: 0.3025 - val_accuracy: 0.9333\n",
            "Epoch 68/100\n",
            "4/4 [==============================] - 0s 15ms/step - loss: 0.3796 - accuracy: 0.8750 - val_loss: 0.2997 - val_accuracy: 0.9333\n",
            "Epoch 69/100\n",
            "4/4 [==============================] - 0s 23ms/step - loss: 0.3764 - accuracy: 0.8750 - val_loss: 0.2968 - val_accuracy: 0.9333\n",
            "Epoch 70/100\n",
            "4/4 [==============================] - 0s 15ms/step - loss: 0.3734 - accuracy: 0.8750 - val_loss: 0.2940 - val_accuracy: 0.9333\n",
            "Epoch 71/100\n",
            "4/4 [==============================] - 0s 24ms/step - loss: 0.3704 - accuracy: 0.8833 - val_loss: 0.2913 - val_accuracy: 0.9333\n",
            "Epoch 72/100\n",
            "4/4 [==============================] - 0s 14ms/step - loss: 0.3678 - accuracy: 0.8833 - val_loss: 0.2885 - val_accuracy: 0.9333\n",
            "Epoch 73/100\n",
            "4/4 [==============================] - 0s 16ms/step - loss: 0.3648 - accuracy: 0.8833 - val_loss: 0.2859 - val_accuracy: 0.9333\n",
            "Epoch 74/100\n",
            "4/4 [==============================] - 0s 15ms/step - loss: 0.3620 - accuracy: 0.8833 - val_loss: 0.2833 - val_accuracy: 0.9333\n",
            "Epoch 75/100\n",
            "4/4 [==============================] - 0s 14ms/step - loss: 0.3593 - accuracy: 0.8917 - val_loss: 0.2808 - val_accuracy: 0.9333\n",
            "Epoch 76/100\n",
            "4/4 [==============================] - 0s 21ms/step - loss: 0.3566 - accuracy: 0.8917 - val_loss: 0.2783 - val_accuracy: 0.9333\n",
            "Epoch 77/100\n",
            "4/4 [==============================] - 0s 21ms/step - loss: 0.3540 - accuracy: 0.8917 - val_loss: 0.2759 - val_accuracy: 0.9333\n",
            "Epoch 78/100\n",
            "4/4 [==============================] - 0s 17ms/step - loss: 0.3514 - accuracy: 0.8917 - val_loss: 0.2734 - val_accuracy: 0.9333\n",
            "Epoch 79/100\n",
            "4/4 [==============================] - 0s 14ms/step - loss: 0.3489 - accuracy: 0.8917 - val_loss: 0.2711 - val_accuracy: 0.9333\n",
            "Epoch 80/100\n",
            "4/4 [==============================] - 0s 14ms/step - loss: 0.3464 - accuracy: 0.8917 - val_loss: 0.2687 - val_accuracy: 0.9333\n",
            "Epoch 81/100\n",
            "4/4 [==============================] - 0s 13ms/step - loss: 0.3439 - accuracy: 0.8917 - val_loss: 0.2664 - val_accuracy: 0.9333\n",
            "Epoch 82/100\n",
            "4/4 [==============================] - 0s 14ms/step - loss: 0.3414 - accuracy: 0.8917 - val_loss: 0.2643 - val_accuracy: 0.9333\n",
            "Epoch 83/100\n",
            "4/4 [==============================] - 0s 15ms/step - loss: 0.3391 - accuracy: 0.8917 - val_loss: 0.2621 - val_accuracy: 0.9333\n",
            "Epoch 84/100\n",
            "4/4 [==============================] - 0s 21ms/step - loss: 0.3369 - accuracy: 0.8917 - val_loss: 0.2598 - val_accuracy: 0.9333\n",
            "Epoch 85/100\n",
            "4/4 [==============================] - 0s 24ms/step - loss: 0.3343 - accuracy: 0.8917 - val_loss: 0.2577 - val_accuracy: 0.9333\n",
            "Epoch 86/100\n",
            "4/4 [==============================] - 0s 24ms/step - loss: 0.3319 - accuracy: 0.8917 - val_loss: 0.2555 - val_accuracy: 0.9333\n",
            "Epoch 87/100\n",
            "4/4 [==============================] - 0s 24ms/step - loss: 0.3296 - accuracy: 0.8917 - val_loss: 0.2534 - val_accuracy: 0.9333\n",
            "Epoch 88/100\n",
            "4/4 [==============================] - 0s 27ms/step - loss: 0.3277 - accuracy: 0.8917 - val_loss: 0.2513 - val_accuracy: 0.9333\n",
            "Epoch 89/100\n",
            "4/4 [==============================] - 0s 25ms/step - loss: 0.3251 - accuracy: 0.8917 - val_loss: 0.2493 - val_accuracy: 0.9333\n",
            "Epoch 90/100\n",
            "4/4 [==============================] - 0s 20ms/step - loss: 0.3229 - accuracy: 0.8917 - val_loss: 0.2473 - val_accuracy: 0.9333\n",
            "Epoch 91/100\n",
            "4/4 [==============================] - 0s 26ms/step - loss: 0.3208 - accuracy: 0.8917 - val_loss: 0.2454 - val_accuracy: 0.9333\n",
            "Epoch 92/100\n",
            "4/4 [==============================] - 0s 27ms/step - loss: 0.3186 - accuracy: 0.8917 - val_loss: 0.2435 - val_accuracy: 0.9333\n",
            "Epoch 93/100\n",
            "4/4 [==============================] - 0s 30ms/step - loss: 0.3165 - accuracy: 0.8917 - val_loss: 0.2416 - val_accuracy: 0.9333\n",
            "Epoch 94/100\n",
            "4/4 [==============================] - 0s 19ms/step - loss: 0.3144 - accuracy: 0.8917 - val_loss: 0.2397 - val_accuracy: 0.9333\n",
            "Epoch 95/100\n",
            "4/4 [==============================] - 0s 27ms/step - loss: 0.3121 - accuracy: 0.8917 - val_loss: 0.2379 - val_accuracy: 0.9333\n",
            "Epoch 96/100\n",
            "4/4 [==============================] - 0s 26ms/step - loss: 0.3101 - accuracy: 0.8833 - val_loss: 0.2361 - val_accuracy: 0.9333\n",
            "Epoch 97/100\n",
            "4/4 [==============================] - 0s 26ms/step - loss: 0.3079 - accuracy: 0.8833 - val_loss: 0.2343 - val_accuracy: 0.9333\n",
            "Epoch 98/100\n",
            "4/4 [==============================] - 0s 23ms/step - loss: 0.3059 - accuracy: 0.8917 - val_loss: 0.2325 - val_accuracy: 0.9333\n",
            "Epoch 99/100\n",
            "4/4 [==============================] - 0s 33ms/step - loss: 0.3038 - accuracy: 0.8917 - val_loss: 0.2307 - val_accuracy: 0.9333\n",
            "Epoch 100/100\n",
            "4/4 [==============================] - 0s 18ms/step - loss: 0.3018 - accuracy: 0.8917 - val_loss: 0.2290 - val_accuracy: 0.9333\n",
            "1/1 [==============================] - 0s 24ms/step - loss: 0.2290 - accuracy: 0.9333\n",
            "Test accuracy: 0.9333\n",
            "1/1 [==============================] - 0s 79ms/step\n"
          ]
        }
      ],
      "source": [
        "import pandas as pd\n",
        "import tensorflow as tf\n",
        "from sklearn.model_selection import train_test_split\n",
        "from sklearn.preprocessing import LabelEncoder\n",
        "from sklearn.preprocessing import StandardScaler\n",
        "from tensorflow import keras\n",
        "from tensorflow.keras import layers\n",
        "\n",
        "# Load the preprocessed dataset\n",
        "data = pd.read_csv('IRIS.csv')\n",
        "\n",
        "# Encode the target variable 'species'\n",
        "label_encoder = LabelEncoder()\n",
        "data['species_encoded'] = label_encoder.fit_transform(data['Species'])\n",
        "\n",
        "# Select features (X) and target variable (y)\n",
        "X = data[['SepalLengthCm', 'SepalWidthCm', 'PetalLengthCm', 'PetalWidthCm']]\n",
        "y = data['species_encoded']\n",
        "\n",
        "# Split the data into training and testing sets\n",
        "X_train, X_test, y_train, y_test = train_test_split(X, y, test_size=0.2, random_state=42)\n",
        "\n",
        "# Standardize the features\n",
        "scaler = StandardScaler()\n",
        "X_train = scaler.fit_transform(X_train)\n",
        "X_test = scaler.transform(X_test)\n",
        "\n",
        "# Define the ANN model\n",
        "model = keras.Sequential([\n",
        "    layers.Input(shape=(4,)),  # Input layer with 4 features\n",
        "    layers.Dense(16, activation='relu'),  # Hidden layer with 16 neurons and ReLU activation\n",
        "    layers.Dense(3, activation='softmax')  # Output layer with 3 neurons for the 3 classes and softmax activation\n",
        "])\n",
        "\n",
        "# Compile the model\n",
        "model.compile(optimizer='adam', loss='sparse_categorical_crossentropy', metrics=['accuracy'])\n",
        "\n",
        "# Train the model\n",
        "history = model.fit(X_train, y_train, epochs=100, batch_size=32, validation_data=(X_test, y_test))\n",
        "\n",
        "# Evaluate the model\n",
        "test_loss, test_accuracy = model.evaluate(X_test, y_test)\n",
        "print(f'Test accuracy: {test_accuracy:.4f}')\n",
        "\n",
        "# You can also make predictions\n",
        "predictions = model.predict(X_test)\n"
      ]
    },
    {
      "cell_type": "markdown",
      "metadata": {
        "id": "sb_MEr7Kqqfy"
      },
      "source": [
        "*Thus,accuracy achieved by the Artificial Neural Network (ANN) model : 96.67%*"
      ]
    }
  ],
  "metadata": {
    "colab": {
      "provenance": []
    },
    "kernelspec": {
      "display_name": "Python 3",
      "name": "python3"
    },
    "language_info": {
      "name": "python"
    }
  },
  "nbformat": 4,
  "nbformat_minor": 0
}